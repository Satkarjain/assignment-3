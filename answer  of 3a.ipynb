{
 "cells": [
  {
   "cell_type": "code",
   "execution_count": 1,
   "metadata": {},
   "outputs": [],
   "source": [
    "import pandas as pd\n",
    "import matplotlib.pyplot as plt\n",
    "import numpy as np"
   ]
  },
  {
   "cell_type": "code",
   "execution_count": 2,
   "metadata": {},
   "outputs": [],
   "source": [
    "df=pd.read_csv(\"data.txt\",header=-1)\n",
    "df.columns=[\"population\",\"profit\"]"
   ]
  },
  {
   "cell_type": "code",
   "execution_count": 84,
   "metadata": {},
   "outputs": [
    {
     "data": {
      "text/html": [
       "<div>\n",
       "<style scoped>\n",
       "    .dataframe tbody tr th:only-of-type {\n",
       "        vertical-align: middle;\n",
       "    }\n",
       "\n",
       "    .dataframe tbody tr th {\n",
       "        vertical-align: top;\n",
       "    }\n",
       "\n",
       "    .dataframe thead th {\n",
       "        text-align: right;\n",
       "    }\n",
       "</style>\n",
       "<table border=\"1\" class=\"dataframe\">\n",
       "  <thead>\n",
       "    <tr style=\"text-align: right;\">\n",
       "      <th></th>\n",
       "      <th>population</th>\n",
       "      <th>profit</th>\n",
       "    </tr>\n",
       "  </thead>\n",
       "  <tbody>\n",
       "    <tr>\n",
       "      <th>0</th>\n",
       "      <td>6.1101</td>\n",
       "      <td>17.5920</td>\n",
       "    </tr>\n",
       "    <tr>\n",
       "      <th>1</th>\n",
       "      <td>5.5277</td>\n",
       "      <td>9.1302</td>\n",
       "    </tr>\n",
       "    <tr>\n",
       "      <th>2</th>\n",
       "      <td>8.5186</td>\n",
       "      <td>13.6620</td>\n",
       "    </tr>\n",
       "    <tr>\n",
       "      <th>3</th>\n",
       "      <td>7.0032</td>\n",
       "      <td>11.8540</td>\n",
       "    </tr>\n",
       "    <tr>\n",
       "      <th>4</th>\n",
       "      <td>5.8598</td>\n",
       "      <td>6.8233</td>\n",
       "    </tr>\n",
       "  </tbody>\n",
       "</table>\n",
       "</div>"
      ],
      "text/plain": [
       "   population   profit\n",
       "0      6.1101  17.5920\n",
       "1      5.5277   9.1302\n",
       "2      8.5186  13.6620\n",
       "3      7.0032  11.8540\n",
       "4      5.8598   6.8233"
      ]
     },
     "execution_count": 84,
     "metadata": {},
     "output_type": "execute_result"
    }
   ],
   "source": [
    "df.head()"
   ]
  },
  {
   "cell_type": "code",
   "execution_count": 4,
   "metadata": {},
   "outputs": [
    {
     "data": {
      "image/png": "[encoded data removed]",
      "text/plain": [
       "<Figure size 432x288 with 1 Axes>"
      ]
     },
     "metadata": {
      "needs_background": "light"
     },
     "output_type": "display_data"
    }
   ],
   "source": [
    "\n",
    "plt.scatter(df[\"population\"],df['profit'])\n",
    "\n",
    "plt.show()"
   ]
  },
  {
   "cell_type": "code",
   "execution_count": 52,
   "metadata": {},
   "outputs": [],
   "source": [
    "a=np.random.rand(len(df))<0.8"
   ]
  },
  {
   "cell_type": "code",
   "execution_count": 53,
   "metadata": {},
   "outputs": [],
   "source": [
    "x=df['population']\n",
    "y=df['profit']\n",
    "train_x=x[a]\n",
    "test_x=x[~a]\n",
    "train_y=y[a]\n",
    "train_x=np.asanyarray(train_x)\n",
    "test_x=np.asanyarray(test_x)\n",
    "train_y=np.asanyarray(train_y)\n"
   ]
  },
  {
   "cell_type": "code",
   "execution_count": 54,
   "metadata": {},
   "outputs": [],
   "source": [
    "thet=np.zeros((2,(len(train_x))))\n"
   ]
  },
  {
   "cell_type": "code",
   "execution_count": 55,
   "metadata": {},
   "outputs": [],
   "source": [
    "def cost_function(train_x,train_y,theta):\n",
    "    n=len(train_x)\n",
    "    \n",
    "    y_predict = theta[0] + theta[1] * train_x\n",
    "    e = (y_predict - train_y)\n",
    "    se= e**2\n",
    "    mse=np.sum(se)\n",
    "    J=mse/(2*n)\n",
    "    print(\"the cost value at is : \",J)"
   ]
  },
  {
   "cell_type": "code",
   "execution_count": 56,
   "metadata": {},
   "outputs": [],
   "source": [
    "def gradientDescent(train_x,train_y,theta,lr=0.01,iltr=20):\n",
    "    n=len(train_x)\n",
    "    i=z=0\n",
    "    while i<iltr:\n",
    "        y_predict = theta[0] + theta[1] * train_x\n",
    "        error = (y_predict - train_y)\n",
    "        a0 = 2 * np.sum(error) / n\n",
    "        a1 = 2 * np.sum(error * train_x) / n\n",
    "        theta[0]= theta[0] -lr * a0\n",
    "        theta[1] = theta[1] - lr *a1\n",
    "        cost_function(train_x,train_y,theta)\n",
    "        i=i+1\n",
    "       \n",
    "    return theta     "
   ]
  },
  {
   "cell_type": "code",
   "execution_count": 57,
   "metadata": {
    "scrolled": true
   },
   "outputs": [
    {
     "name": "stdout",
     "output_type": "stream",
     "text": [
      "the cost value at is :  14.735570780033777\n",
      "the cost value at is :  8.982707261392658\n",
      "the cost value at is :  7.166617268487727\n",
      "the cost value at is :  6.5892485183564835\n",
      "the cost value at is :  6.401674712923985\n",
      "the cost value at is :  6.3367860083913845\n",
      "the cost value at is :  6.310537636732825\n",
      "the cost value at is :  6.2964851648198055\n",
      "the cost value at is :  6.286307762666744\n",
      "the cost value at is :  6.277387085433725\n",
      "the cost value at is :  6.268899042787136\n",
      "the cost value at is :  6.26058409744912\n",
      "the cost value at is :  6.2523603469666575\n",
      "the cost value at is :  6.2442017821896885\n",
      "the cost value at is :  6.236099982017812\n",
      "the cost value at is :  6.2280520608708825\n",
      "the cost value at is :  6.220056876422513\n",
      "the cost value at is :  6.212113836376083\n",
      "the cost value at is :  6.204222523013994\n",
      "the cost value at is :  6.196382575054483\n"
     ]
    },
    {
     "data": {
      "text/plain": [
       "array([[-0.17154066, -0.17154066, -0.17154066, -0.17154066, -0.17154066,\n",
       "        -0.17154066, -0.17154066, -0.17154066, -0.17154066, -0.17154066,\n",
       "        -0.17154066, -0.17154066, -0.17154066, -0.17154066, -0.17154066,\n",
       "        -0.17154066, -0.17154066, -0.17154066, -0.17154066, -0.17154066,\n",
       "        -0.17154066, -0.17154066, -0.17154066, -0.17154066, -0.17154066,\n",
       "        -0.17154066, -0.17154066, -0.17154066, -0.17154066, -0.17154066,\n",
       "        -0.17154066, -0.17154066, -0.17154066, -0.17154066, -0.17154066,\n",
       "        -0.17154066, -0.17154066, -0.17154066, -0.17154066, -0.17154066,\n",
       "        -0.17154066, -0.17154066, -0.17154066, -0.17154066, -0.17154066,\n",
       "        -0.17154066, -0.17154066, -0.17154066, -0.17154066, -0.17154066,\n",
       "        -0.17154066, -0.17154066, -0.17154066, -0.17154066, -0.17154066,\n",
       "        -0.17154066, -0.17154066, -0.17154066, -0.17154066, -0.17154066,\n",
       "        -0.17154066, -0.17154066, -0.17154066, -0.17154066, -0.17154066,\n",
       "        -0.17154066, -0.17154066, -0.17154066, -0.17154066, -0.17154066,\n",
       "        -0.17154066, -0.17154066, -0.17154066, -0.17154066, -0.17154066],\n",
       "       [ 0.84853633,  0.84853633,  0.84853633,  0.84853633,  0.84853633,\n",
       "         0.84853633,  0.84853633,  0.84853633,  0.84853633,  0.84853633,\n",
       "         0.84853633,  0.84853633,  0.84853633,  0.84853633,  0.84853633,\n",
       "         0.84853633,  0.84853633,  0.84853633,  0.84853633,  0.84853633,\n",
       "         0.84853633,  0.84853633,  0.84853633,  0.84853633,  0.84853633,\n",
       "         0.84853633,  0.84853633,  0.84853633,  0.84853633,  0.84853633,\n",
       "         0.84853633,  0.84853633,  0.84853633,  0.84853633,  0.84853633,\n",
       "         0.84853633,  0.84853633,  0.84853633,  0.84853633,  0.84853633,\n",
       "         0.84853633,  0.84853633,  0.84853633,  0.84853633,  0.84853633,\n",
       "         0.84853633,  0.84853633,  0.84853633,  0.84853633,  0.84853633,\n",
       "         0.84853633,  0.84853633,  0.84853633,  0.84853633,  0.84853633,\n",
       "         0.84853633,  0.84853633,  0.84853633,  0.84853633,  0.84853633,\n",
       "         0.84853633,  0.84853633,  0.84853633,  0.84853633,  0.84853633,\n",
       "         0.84853633,  0.84853633,  0.84853633,  0.84853633,  0.84853633,\n",
       "         0.84853633,  0.84853633,  0.84853633,  0.84853633,  0.84853633]])"
      ]
     },
     "execution_count": 57,
     "metadata": {},
     "output_type": "execute_result"
    }
   ],
   "source": [
    "m=gradientDescent(train_x,train_y,thet)\n",
    "m"
   ]
  },
  {
   "cell_type": "code",
   "execution_count": 58,
   "metadata": {
    "scrolled": true
   },
   "outputs": [
    {
     "name": "stdout",
     "output_type": "stream",
     "text": [
      "0.8485363288505133 -0.1715406616399425\n"
     ]
    }
   ],
   "source": [
    "intercept=m[0][0]\n",
    "coff=m[1][0]\n",
    "print(coff,intercept)"
   ]
  },
  {
   "cell_type": "code",
   "execution_count": 59,
   "metadata": {},
   "outputs": [
    {
     "data": {
      "text/plain": [
       "[<matplotlib.lines.Line2D at 0x23425dac898>]"
      ]
     },
     "execution_count": 59,
     "metadata": {},
     "output_type": "execute_result"
    },
    {
     "data": {
      "image/png": "[encoded data removed]",
      "text/plain": [
       "<Figure size 432x288 with 1 Axes>"
      ]
     },
     "metadata": {
      "needs_background": "light"
     },
     "output_type": "display_data"
    }
   ],
   "source": [
    "plt.scatter(df['population'],df['profit'])\n",
    "plt.plot(train_x,coff*train_x+intercept,\"r\")"
   ]
  },
  {
   "cell_type": "code",
   "execution_count": 35,
   "metadata": {},
   "outputs": [
    {
     "name": "stdout",
     "output_type": "stream",
     "text": [
      "Coefficients:  [[1.17896468]]\n",
      "Intercept:  [-3.79304718]\n"
     ]
    }
   ],
   "source": [
    "msk = np.random.rand(len(df)) < 0.8\n",
    "trai = df[msk]\n",
    "test = df[~msk]\n",
    "\n",
    "from sklearn import linear_model\n",
    "regr = linear_model.LinearRegression()\n",
    "trai_x = np.asanyarray(trai[['population']])\n",
    "trai_y = np.asanyarray(trai[['profit']])\n",
    "regr.fit (trai_x, trai_y)\n",
    "# The coefficients\n",
    "print ('Coefficients: ', regr.coef_)\n",
    "print ('Intercept: ',regr.intercept_)"
   ]
  },
  {
   "cell_type": "code",
   "execution_count": 36,
   "metadata": {},
   "outputs": [
    {
     "data": {
      "image/png": "[encoded data removed]",
      "text/plain": [
       "<Figure size 432x288 with 1 Axes>"
      ]
     },
     "metadata": {
      "needs_background": "light"
     },
     "output_type": "display_data"
    }
   ],
   "source": [
    "plt.scatter(df['population'],df['profit'])\n",
    "plt.plot(trai_x,regr.coef_*trai_x+regr.intercept_)\n",
    "plt.show()"
   ]
  },
  {
   "cell_type": "code",
   "execution_count": 77,
   "metadata": {},
   "outputs": [
    {
     "name": "stdout",
     "output_type": "stream",
     "text": [
      "prices for population of 35000 :  [[3333.2918841]]\n",
      "prices for population of 70000 :  [[44597.05553789]]\n"
     ]
    }
   ],
   "source": [
    "print(\"prices for population of 35000 : \",(regr.coef_*3.5+regr.intercept_)*10000)\n",
    "print(\"prices for population of 70000 : \",(regr.coef_*7+regr.intercept_)*10000)"
   ]
  },
  {
   "cell_type": "code",
   "execution_count": null,
   "metadata": {},
   "outputs": [],
   "source": []
  },
  {
   "cell_type": "code",
   "execution_count": null,
   "metadata": {},
   "outputs": [],
   "source": []
  }
 ],
 "metadata": {
  "kernelspec": {
   "display_name": "Python 3",
   "language": "python",
   "name": "python3"
  },
  "language_info": {
   "codemirror_mode": {
    "name": "ipython",
    "version": 3
   },
   "file_extension": ".py",
   "mimetype": "text/x-python",
   "name": "python",
   "nbconvert_exporter": "python",
   "pygments_lexer": "ipython3",
   "version": "3.7.3"
  }
 },
 "nbformat": 4,
 "nbformat_minor": 2
}
